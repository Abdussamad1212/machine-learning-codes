{
 "cells": [
  {
   "cell_type": "code",
   "execution_count": 1,
   "metadata": {},
   "outputs": [],
   "source": [
    "import pandas as pd\n",
    "import numpy as np\n",
    "import matplotlib.pyplot as plt\n",
    "import seaborn as sns\n",
    "import csv\n",
    "from sklearn.feature_selection import SelectKBest, chi2\n",
    "from sklearn import preprocessing"
   ]
  },
  {
   "cell_type": "code",
   "execution_count": 2,
   "metadata": {},
   "outputs": [],
   "source": [
    "import pandas as pd\n",
    "import numpy as np\n",
    "import matplotlib.pyplot as plt\n",
    "import seaborn as sns\n",
    "import csv\n",
    "from sklearn.feature_selection import SelectKBest, chi2\n",
    "from sklearn import preprocessing\n",
    "from sklearn.svm import SVC\n",
    "from sklearn.model_selection import cross_val_score,KFold,cross_val_predict\n",
    "from sklearn.metrics import confusion_matrix,classification_report,accuracy_score\n",
    "import sklearn\n",
    "from sklearn.metrics import f1_score\n",
    "from sklearn import metrics\n",
    "from sklearn.metrics import accuracy_score\n",
    "from sklearn.metrics import precision_score\n",
    "from sklearn.metrics import recall_score\n",
    "from sklearn.metrics import roc_curve, roc_auc_score\n",
    "from sklearn.neighbors import KNeighborsClassifier\n",
    "from sklearn.preprocessing import StandardScaler\n",
    "from sklearn.model_selection import train_test_split, GridSearchCV\n",
    "from sklearn.pipeline import make_pipeline\n",
    "from sklearn.svm import SVC"
   ]
  },
  {
   "cell_type": "code",
   "execution_count": 3,
   "metadata": {},
   "outputs": [],
   "source": [
    "df = pd.read_excel('beta keto_combine.xlsx')"
   ]
  },
  {
   "cell_type": "code",
   "execution_count": 4,
   "metadata": {},
   "outputs": [
    {
     "data": {
      "text/html": [
       "<div>\n",
       "<style scoped>\n",
       "    .dataframe tbody tr th:only-of-type {\n",
       "        vertical-align: middle;\n",
       "    }\n",
       "\n",
       "    .dataframe tbody tr th {\n",
       "        vertical-align: top;\n",
       "    }\n",
       "\n",
       "    .dataframe thead th {\n",
       "        text-align: right;\n",
       "    }\n",
       "</style>\n",
       "<table border=\"1\" class=\"dataframe\">\n",
       "  <thead>\n",
       "    <tr style=\"text-align: right;\">\n",
       "      <th></th>\n",
       "      <th>mol</th>\n",
       "      <th>apol</th>\n",
       "      <th>ast_fraglike</th>\n",
       "      <th>ast_fraglike_ext</th>\n",
       "      <th>ast_violation</th>\n",
       "      <th>ast_violation_ext</th>\n",
       "      <th>a_acc</th>\n",
       "      <th>a_acid</th>\n",
       "      <th>a_aro</th>\n",
       "      <th>a_base</th>\n",
       "      <th>...</th>\n",
       "      <th>vsa_acc</th>\n",
       "      <th>vsa_don</th>\n",
       "      <th>vsa_hyd</th>\n",
       "      <th>vsa_other</th>\n",
       "      <th>vsa_pol</th>\n",
       "      <th>Weight</th>\n",
       "      <th>weinerPath</th>\n",
       "      <th>weinerPol</th>\n",
       "      <th>zagreb</th>\n",
       "      <th>Label</th>\n",
       "    </tr>\n",
       "  </thead>\n",
       "  <tbody>\n",
       "    <tr>\n",
       "      <th>0</th>\n",
       "      <td>Brc1cc(CN(C(=O)Nc2ccccc2)c2ccc(Cl)cc2)c(O)cc1</td>\n",
       "      <td>54.902687</td>\n",
       "      <td>0</td>\n",
       "      <td>0</td>\n",
       "      <td>2</td>\n",
       "      <td>3</td>\n",
       "      <td>2</td>\n",
       "      <td>0</td>\n",
       "      <td>18</td>\n",
       "      <td>0</td>\n",
       "      <td>...</td>\n",
       "      <td>13.566921</td>\n",
       "      <td>5.682576</td>\n",
       "      <td>314.04636</td>\n",
       "      <td>17.440542</td>\n",
       "      <td>32.816418</td>\n",
       "      <td>431.71698</td>\n",
       "      <td>1671</td>\n",
       "      <td>38</td>\n",
       "      <td>132</td>\n",
       "      <td>1</td>\n",
       "    </tr>\n",
       "    <tr>\n",
       "      <th>1</th>\n",
       "      <td>O=[N+]([O-])c1n(CC(OC(=O)/C=C/c2ccc(-c3ccccc3)...</td>\n",
       "      <td>59.230652</td>\n",
       "      <td>0</td>\n",
       "      <td>0</td>\n",
       "      <td>2</td>\n",
       "      <td>3</td>\n",
       "      <td>2</td>\n",
       "      <td>0</td>\n",
       "      <td>17</td>\n",
       "      <td>0</td>\n",
       "      <td>...</td>\n",
       "      <td>19.249496</td>\n",
       "      <td>0.000000</td>\n",
       "      <td>292.42154</td>\n",
       "      <td>73.524429</td>\n",
       "      <td>19.249496</td>\n",
       "      <td>391.42700</td>\n",
       "      <td>2779</td>\n",
       "      <td>41</td>\n",
       "      <td>146</td>\n",
       "      <td>1</td>\n",
       "    </tr>\n",
       "    <tr>\n",
       "      <th>2</th>\n",
       "      <td>Brc1cc(CN(C(=O)Nc2ccccc2)c2ccc(F)cc2)c(O)cc1</td>\n",
       "      <td>53.279690</td>\n",
       "      <td>0</td>\n",
       "      <td>0</td>\n",
       "      <td>2</td>\n",
       "      <td>3</td>\n",
       "      <td>2</td>\n",
       "      <td>0</td>\n",
       "      <td>18</td>\n",
       "      <td>0</td>\n",
       "      <td>...</td>\n",
       "      <td>13.566921</td>\n",
       "      <td>5.682576</td>\n",
       "      <td>300.87415</td>\n",
       "      <td>17.440542</td>\n",
       "      <td>32.816418</td>\n",
       "      <td>415.26199</td>\n",
       "      <td>1671</td>\n",
       "      <td>38</td>\n",
       "      <td>132</td>\n",
       "      <td>1</td>\n",
       "    </tr>\n",
       "    <tr>\n",
       "      <th>3</th>\n",
       "      <td>Brc1cc(CN(C(=O)Nc2ccccc2)c2ccc(Br)cc2)c(O)cc1</td>\n",
       "      <td>55.772690</td>\n",
       "      <td>0</td>\n",
       "      <td>0</td>\n",
       "      <td>2</td>\n",
       "      <td>3</td>\n",
       "      <td>2</td>\n",
       "      <td>0</td>\n",
       "      <td>18</td>\n",
       "      <td>0</td>\n",
       "      <td>...</td>\n",
       "      <td>13.566921</td>\n",
       "      <td>5.682576</td>\n",
       "      <td>325.82172</td>\n",
       "      <td>17.440542</td>\n",
       "      <td>32.816418</td>\n",
       "      <td>476.16800</td>\n",
       "      <td>1671</td>\n",
       "      <td>38</td>\n",
       "      <td>132</td>\n",
       "      <td>1</td>\n",
       "    </tr>\n",
       "    <tr>\n",
       "      <th>4</th>\n",
       "      <td>Brc1c(N(C(=O)Nc2ccccc2)Cc2c(O)ccc(Br)c2)cccc1</td>\n",
       "      <td>55.772690</td>\n",
       "      <td>0</td>\n",
       "      <td>0</td>\n",
       "      <td>2</td>\n",
       "      <td>3</td>\n",
       "      <td>2</td>\n",
       "      <td>0</td>\n",
       "      <td>18</td>\n",
       "      <td>0</td>\n",
       "      <td>...</td>\n",
       "      <td>13.566921</td>\n",
       "      <td>5.682576</td>\n",
       "      <td>325.82172</td>\n",
       "      <td>17.440542</td>\n",
       "      <td>32.816418</td>\n",
       "      <td>476.16800</td>\n",
       "      <td>1633</td>\n",
       "      <td>39</td>\n",
       "      <td>132</td>\n",
       "      <td>1</td>\n",
       "    </tr>\n",
       "    <tr>\n",
       "      <th>...</th>\n",
       "      <td>...</td>\n",
       "      <td>...</td>\n",
       "      <td>...</td>\n",
       "      <td>...</td>\n",
       "      <td>...</td>\n",
       "      <td>...</td>\n",
       "      <td>...</td>\n",
       "      <td>...</td>\n",
       "      <td>...</td>\n",
       "      <td>...</td>\n",
       "      <td>...</td>\n",
       "      <td>...</td>\n",
       "      <td>...</td>\n",
       "      <td>...</td>\n",
       "      <td>...</td>\n",
       "      <td>...</td>\n",
       "      <td>...</td>\n",
       "      <td>...</td>\n",
       "      <td>...</td>\n",
       "      <td>...</td>\n",
       "      <td>...</td>\n",
       "    </tr>\n",
       "    <tr>\n",
       "      <th>881</th>\n",
       "      <td>Clc1c(Cl)cc2N(C)C(=Nc3ccc(OC(F)(F)F)cc3)N(Cc3c...</td>\n",
       "      <td>70.010483</td>\n",
       "      <td>0</td>\n",
       "      <td>0</td>\n",
       "      <td>4</td>\n",
       "      <td>6</td>\n",
       "      <td>7</td>\n",
       "      <td>0</td>\n",
       "      <td>23</td>\n",
       "      <td>0</td>\n",
       "      <td>...</td>\n",
       "      <td>34.912758</td>\n",
       "      <td>5.682576</td>\n",
       "      <td>364.48294</td>\n",
       "      <td>44.312679</td>\n",
       "      <td>72.596916</td>\n",
       "      <td>577.35400</td>\n",
       "      <td>5499</td>\n",
       "      <td>61</td>\n",
       "      <td>212</td>\n",
       "      <td>0</td>\n",
       "    </tr>\n",
       "    <tr>\n",
       "      <th>882</th>\n",
       "      <td>S(=O)(=O)(Nc1ncsc1)c1c(F)cc(Oc2c(-c3n(C4CN(C)C...</td>\n",
       "      <td>68.973274</td>\n",
       "      <td>0</td>\n",
       "      <td>0</td>\n",
       "      <td>3</td>\n",
       "      <td>4</td>\n",
       "      <td>5</td>\n",
       "      <td>0</td>\n",
       "      <td>22</td>\n",
       "      <td>0</td>\n",
       "      <td>...</td>\n",
       "      <td>47.120140</td>\n",
       "      <td>8.075207</td>\n",
       "      <td>375.01788</td>\n",
       "      <td>23.799927</td>\n",
       "      <td>55.195347</td>\n",
       "      <td>571.55096</td>\n",
       "      <td>4754</td>\n",
       "      <td>61</td>\n",
       "      <td>212</td>\n",
       "      <td>0</td>\n",
       "    </tr>\n",
       "    <tr>\n",
       "      <th>883</th>\n",
       "      <td>Brc1ccc(-c2nn(-c3ccccc3)c3NC4=C(C(=O)OC4)C(c4c...</td>\n",
       "      <td>77.403030</td>\n",
       "      <td>0</td>\n",
       "      <td>0</td>\n",
       "      <td>3</td>\n",
       "      <td>4</td>\n",
       "      <td>5</td>\n",
       "      <td>0</td>\n",
       "      <td>23</td>\n",
       "      <td>0</td>\n",
       "      <td>...</td>\n",
       "      <td>30.499229</td>\n",
       "      <td>5.682576</td>\n",
       "      <td>405.32117</td>\n",
       "      <td>28.402819</td>\n",
       "      <td>36.181805</td>\n",
       "      <td>574.43097</td>\n",
       "      <td>4013</td>\n",
       "      <td>71</td>\n",
       "      <td>212</td>\n",
       "      <td>0</td>\n",
       "    </tr>\n",
       "    <tr>\n",
       "      <th>884</th>\n",
       "      <td>Clc1c(C)cc(S(=O)(=O)N=C(NN=CC#Cc2ccccc2)N)c(SC...</td>\n",
       "      <td>75.103859</td>\n",
       "      <td>0</td>\n",
       "      <td>0</td>\n",
       "      <td>3</td>\n",
       "      <td>5</td>\n",
       "      <td>6</td>\n",
       "      <td>0</td>\n",
       "      <td>18</td>\n",
       "      <td>0</td>\n",
       "      <td>...</td>\n",
       "      <td>54.520283</td>\n",
       "      <td>27.163528</td>\n",
       "      <td>340.96231</td>\n",
       "      <td>74.395142</td>\n",
       "      <td>81.683807</td>\n",
       "      <td>575.49701</td>\n",
       "      <td>5110</td>\n",
       "      <td>56</td>\n",
       "      <td>192</td>\n",
       "      <td>0</td>\n",
       "    </tr>\n",
       "    <tr>\n",
       "      <th>885</th>\n",
       "      <td>O=C(Nc1cc2C(=O)N(C)CC(OC)C(C)CN(Cc3cnccc3)C(C)...</td>\n",
       "      <td>89.505753</td>\n",
       "      <td>0</td>\n",
       "      <td>0</td>\n",
       "      <td>3</td>\n",
       "      <td>4</td>\n",
       "      <td>7</td>\n",
       "      <td>0</td>\n",
       "      <td>21</td>\n",
       "      <td>0</td>\n",
       "      <td>...</td>\n",
       "      <td>43.506508</td>\n",
       "      <td>5.682576</td>\n",
       "      <td>470.46939</td>\n",
       "      <td>25.899061</td>\n",
       "      <td>49.189083</td>\n",
       "      <td>573.71802</td>\n",
       "      <td>5917</td>\n",
       "      <td>69</td>\n",
       "      <td>216</td>\n",
       "      <td>0</td>\n",
       "    </tr>\n",
       "  </tbody>\n",
       "</table>\n",
       "<p>886 rows × 189 columns</p>\n",
       "</div>"
      ],
      "text/plain": [
       "                                                   mol       apol  \\\n",
       "0        Brc1cc(CN(C(=O)Nc2ccccc2)c2ccc(Cl)cc2)c(O)cc1  54.902687   \n",
       "1    O=[N+]([O-])c1n(CC(OC(=O)/C=C/c2ccc(-c3ccccc3)...  59.230652   \n",
       "2         Brc1cc(CN(C(=O)Nc2ccccc2)c2ccc(F)cc2)c(O)cc1  53.279690   \n",
       "3        Brc1cc(CN(C(=O)Nc2ccccc2)c2ccc(Br)cc2)c(O)cc1  55.772690   \n",
       "4        Brc1c(N(C(=O)Nc2ccccc2)Cc2c(O)ccc(Br)c2)cccc1  55.772690   \n",
       "..                                                 ...        ...   \n",
       "881  Clc1c(Cl)cc2N(C)C(=Nc3ccc(OC(F)(F)F)cc3)N(Cc3c...  70.010483   \n",
       "882  S(=O)(=O)(Nc1ncsc1)c1c(F)cc(Oc2c(-c3n(C4CN(C)C...  68.973274   \n",
       "883  Brc1ccc(-c2nn(-c3ccccc3)c3NC4=C(C(=O)OC4)C(c4c...  77.403030   \n",
       "884  Clc1c(C)cc(S(=O)(=O)N=C(NN=CC#Cc2ccccc2)N)c(SC...  75.103859   \n",
       "885  O=C(Nc1cc2C(=O)N(C)CC(OC)C(C)CN(Cc3cnccc3)C(C)...  89.505753   \n",
       "\n",
       "     ast_fraglike  ast_fraglike_ext  ast_violation  ast_violation_ext  a_acc  \\\n",
       "0               0                 0              2                  3      2   \n",
       "1               0                 0              2                  3      2   \n",
       "2               0                 0              2                  3      2   \n",
       "3               0                 0              2                  3      2   \n",
       "4               0                 0              2                  3      2   \n",
       "..            ...               ...            ...                ...    ...   \n",
       "881             0                 0              4                  6      7   \n",
       "882             0                 0              3                  4      5   \n",
       "883             0                 0              3                  4      5   \n",
       "884             0                 0              3                  5      6   \n",
       "885             0                 0              3                  4      7   \n",
       "\n",
       "     a_acid  a_aro  a_base  ...    vsa_acc    vsa_don    vsa_hyd  vsa_other  \\\n",
       "0         0     18       0  ...  13.566921   5.682576  314.04636  17.440542   \n",
       "1         0     17       0  ...  19.249496   0.000000  292.42154  73.524429   \n",
       "2         0     18       0  ...  13.566921   5.682576  300.87415  17.440542   \n",
       "3         0     18       0  ...  13.566921   5.682576  325.82172  17.440542   \n",
       "4         0     18       0  ...  13.566921   5.682576  325.82172  17.440542   \n",
       "..      ...    ...     ...  ...        ...        ...        ...        ...   \n",
       "881       0     23       0  ...  34.912758   5.682576  364.48294  44.312679   \n",
       "882       0     22       0  ...  47.120140   8.075207  375.01788  23.799927   \n",
       "883       0     23       0  ...  30.499229   5.682576  405.32117  28.402819   \n",
       "884       0     18       0  ...  54.520283  27.163528  340.96231  74.395142   \n",
       "885       0     21       0  ...  43.506508   5.682576  470.46939  25.899061   \n",
       "\n",
       "       vsa_pol     Weight  weinerPath  weinerPol  zagreb  Label  \n",
       "0    32.816418  431.71698        1671         38     132      1  \n",
       "1    19.249496  391.42700        2779         41     146      1  \n",
       "2    32.816418  415.26199        1671         38     132      1  \n",
       "3    32.816418  476.16800        1671         38     132      1  \n",
       "4    32.816418  476.16800        1633         39     132      1  \n",
       "..         ...        ...         ...        ...     ...    ...  \n",
       "881  72.596916  577.35400        5499         61     212      0  \n",
       "882  55.195347  571.55096        4754         61     212      0  \n",
       "883  36.181805  574.43097        4013         71     212      0  \n",
       "884  81.683807  575.49701        5110         56     192      0  \n",
       "885  49.189083  573.71802        5917         69     216      0  \n",
       "\n",
       "[886 rows x 189 columns]"
      ]
     },
     "execution_count": 4,
     "metadata": {},
     "output_type": "execute_result"
    }
   ],
   "source": [
    "df"
   ]
  },
  {
   "cell_type": "code",
   "execution_count": 5,
   "metadata": {},
   "outputs": [
    {
     "name": "stderr",
     "output_type": "stream",
     "text": [
      "C:\\Users\\A B C\\AppData\\Local\\Temp\\ipykernel_436\\4172614641.py:1: DeprecationWarning: Importing display from IPython.core.display is deprecated since IPython 7.14, please import from IPython display\n",
      "  from IPython.core.display import display, HTML\n"
     ]
    },
    {
     "data": {
      "text/html": [
       "<style>.container { width:100% !important; }</style>"
      ],
      "text/plain": [
       "<IPython.core.display.HTML object>"
      ]
     },
     "metadata": {},
     "output_type": "display_data"
    }
   ],
   "source": [
    "from IPython.core.display import display, HTML\n",
    "display(HTML(\"<style>.container { width:100% !important; }</style>\"))\n",
    "import warnings\n",
    "warnings.filterwarnings('ignore')"
   ]
  },
  {
   "cell_type": "code",
   "execution_count": 23,
   "metadata": {},
   "outputs": [],
   "source": [
    "X = df.iloc[ : , 1 : 23]\n",
    "y = df.iloc[:, -1:]"
   ]
  },
  {
   "cell_type": "code",
   "execution_count": 24,
   "metadata": {},
   "outputs": [],
   "source": [
    "non_negative =X[X>=0]"
   ]
  },
  {
   "cell_type": "code",
   "execution_count": 25,
   "metadata": {},
   "outputs": [],
   "source": [
    "ddd = non_negative.fillna(value = 0)"
   ]
  },
  {
   "cell_type": "code",
   "execution_count": 26,
   "metadata": {},
   "outputs": [
    {
     "data": {
      "text/plain": [
       "array([[0.49897449, 0.        , 0.        , ..., 0.00908834, 0.        ,\n",
       "        0.1454135 ],\n",
       "       [0.48782517, 0.        , 0.        , ..., 0.        , 0.        ,\n",
       "        0.17295654],\n",
       "       [0.48777403, 0.        , 0.        , ..., 0.        , 0.00915497,\n",
       "        0.14647954],\n",
       "       ...,\n",
       "       [0.49472732, 0.        , 0.        , ..., 0.        , 0.        ,\n",
       "        0.15339781],\n",
       "       [0.48016344, 0.        , 0.        , ..., 0.01278665, 0.        ,\n",
       "        0.12786651],\n",
       "       [0.48504178, 0.        , 0.        , ..., 0.        , 0.        ,\n",
       "        0.18966895]])"
      ]
     },
     "execution_count": 26,
     "metadata": {},
     "output_type": "execute_result"
    }
   ],
   "source": [
    " norma =  preprocessing.normalize(ddd)\n",
    "norma"
   ]
  },
  {
   "cell_type": "code",
   "execution_count": 27,
   "metadata": {},
   "outputs": [
    {
     "name": "stdout",
     "output_type": "stream",
     "text": [
      " the shape of training set: (620, 22)\n",
      " the shape of testing set: (266, 22)\n"
     ]
    }
   ],
   "source": [
    "from sklearn.model_selection import train_test_split\n",
    "wq=X_train, X_test, y_train, y_test = train_test_split(norma, y, test_size= 0.3 )\n",
    "print(f\" the shape of training set: {X_train.shape}\")\n",
    "print(f\" the shape of testing set: {X_test.shape}\")"
   ]
  },
  {
   "cell_type": "code",
   "execution_count": 28,
   "metadata": {},
   "outputs": [],
   "source": [
    "#SVM"
   ]
  },
  {
   "cell_type": "code",
   "execution_count": 52,
   "metadata": {},
   "outputs": [],
   "source": [
    "param_grid = { 'C': [0.1 , 1 ,10, ],\n",
    "             'gamma': [1 , 0.1 , 0.001,]}"
   ]
  },
  {
   "cell_type": "code",
   "execution_count": 53,
   "metadata": {},
   "outputs": [],
   "source": [
    "from sklearn.model_selection import GridSearchCV"
   ]
  },
  {
   "cell_type": "code",
   "execution_count": 54,
   "metadata": {},
   "outputs": [],
   "source": [
    "grid = GridSearchCV(SVC() , param_grid, verbose = 2)"
   ]
  },
  {
   "cell_type": "code",
   "execution_count": 55,
   "metadata": {},
   "outputs": [
    {
     "name": "stdout",
     "output_type": "stream",
     "text": [
      "Fitting 5 folds for each of 9 candidates, totalling 45 fits\n",
      "[CV] END .....................................C=0.1, gamma=1; total time=   0.0s\n",
      "[CV] END .....................................C=0.1, gamma=1; total time=   0.0s\n",
      "[CV] END .....................................C=0.1, gamma=1; total time=   0.0s\n",
      "[CV] END .....................................C=0.1, gamma=1; total time=   0.0s\n",
      "[CV] END .....................................C=0.1, gamma=1; total time=   0.0s\n",
      "[CV] END ...................................C=0.1, gamma=0.1; total time=   0.0s\n",
      "[CV] END ...................................C=0.1, gamma=0.1; total time=   0.0s\n",
      "[CV] END ...................................C=0.1, gamma=0.1; total time=   0.0s\n",
      "[CV] END ...................................C=0.1, gamma=0.1; total time=   0.0s\n",
      "[CV] END ...................................C=0.1, gamma=0.1; total time=   0.0s\n",
      "[CV] END .................................C=0.1, gamma=0.001; total time=   0.0s\n",
      "[CV] END .................................C=0.1, gamma=0.001; total time=   0.0s\n",
      "[CV] END .................................C=0.1, gamma=0.001; total time=   0.0s\n",
      "[CV] END .................................C=0.1, gamma=0.001; total time=   0.0s\n",
      "[CV] END .................................C=0.1, gamma=0.001; total time=   0.0s\n",
      "[CV] END .......................................C=1, gamma=1; total time=   0.0s\n",
      "[CV] END .......................................C=1, gamma=1; total time=   0.0s\n",
      "[CV] END .......................................C=1, gamma=1; total time=   0.0s\n",
      "[CV] END .......................................C=1, gamma=1; total time=   0.0s\n",
      "[CV] END .......................................C=1, gamma=1; total time=   0.0s\n",
      "[CV] END .....................................C=1, gamma=0.1; total time=   0.0s\n",
      "[CV] END .....................................C=1, gamma=0.1; total time=   0.0s\n",
      "[CV] END .....................................C=1, gamma=0.1; total time=   0.0s\n",
      "[CV] END .....................................C=1, gamma=0.1; total time=   0.0s\n",
      "[CV] END .....................................C=1, gamma=0.1; total time=   0.0s\n",
      "[CV] END ...................................C=1, gamma=0.001; total time=   0.0s\n",
      "[CV] END ...................................C=1, gamma=0.001; total time=   0.0s\n",
      "[CV] END ...................................C=1, gamma=0.001; total time=   0.0s\n",
      "[CV] END ...................................C=1, gamma=0.001; total time=   0.0s\n",
      "[CV] END ...................................C=1, gamma=0.001; total time=   0.0s\n",
      "[CV] END ......................................C=10, gamma=1; total time=   0.0s\n",
      "[CV] END ......................................C=10, gamma=1; total time=   0.0s\n",
      "[CV] END ......................................C=10, gamma=1; total time=   0.0s\n",
      "[CV] END ......................................C=10, gamma=1; total time=   0.0s\n",
      "[CV] END ......................................C=10, gamma=1; total time=   0.0s\n",
      "[CV] END ....................................C=10, gamma=0.1; total time=   0.0s\n",
      "[CV] END ....................................C=10, gamma=0.1; total time=   0.0s\n",
      "[CV] END ....................................C=10, gamma=0.1; total time=   0.0s\n",
      "[CV] END ....................................C=10, gamma=0.1; total time=   0.0s\n",
      "[CV] END ....................................C=10, gamma=0.1; total time=   0.0s\n",
      "[CV] END ..................................C=10, gamma=0.001; total time=   0.0s\n",
      "[CV] END ..................................C=10, gamma=0.001; total time=   0.0s\n",
      "[CV] END ..................................C=10, gamma=0.001; total time=   0.0s\n",
      "[CV] END ..................................C=10, gamma=0.001; total time=   0.0s\n",
      "[CV] END ..................................C=10, gamma=0.001; total time=   0.0s\n"
     ]
    },
    {
     "data": {
      "text/plain": [
       "GridSearchCV(estimator=SVC(),\n",
       "             param_grid={'C': [0.1, 1, 10], 'gamma': [1, 0.1, 0.001]},\n",
       "             verbose=2)"
      ]
     },
     "execution_count": 55,
     "metadata": {},
     "output_type": "execute_result"
    }
   ],
   "source": [
    "grid.fit(X_train , y_train)"
   ]
  },
  {
   "cell_type": "code",
   "execution_count": 56,
   "metadata": {},
   "outputs": [
    {
     "data": {
      "text/plain": [
       "{'C': 10, 'gamma': 1}"
      ]
     },
     "execution_count": 56,
     "metadata": {},
     "output_type": "execute_result"
    }
   ],
   "source": [
    "grid.best_params_"
   ]
  },
  {
   "cell_type": "code",
   "execution_count": 57,
   "metadata": {},
   "outputs": [
    {
     "data": {
      "text/plain": [
       "0.7887096774193548"
      ]
     },
     "execution_count": 57,
     "metadata": {},
     "output_type": "execute_result"
    }
   ],
   "source": [
    "grid.best_score_"
   ]
  },
  {
   "cell_type": "code",
   "execution_count": 58,
   "metadata": {},
   "outputs": [],
   "source": [
    "grid_pred = grid.predict(X_train)"
   ]
  },
  {
   "cell_type": "code",
   "execution_count": 59,
   "metadata": {},
   "outputs": [],
   "source": [
    "aa = pd.DataFrame(grid_pred)"
   ]
  },
  {
   "cell_type": "code",
   "execution_count": 60,
   "metadata": {},
   "outputs": [
    {
     "data": {
      "text/plain": [
       "0    436\n",
       "1    184\n",
       "dtype: int64"
      ]
     },
     "execution_count": 60,
     "metadata": {},
     "output_type": "execute_result"
    }
   ],
   "source": [
    "aa.value_counts()"
   ]
  },
  {
   "cell_type": "code",
   "execution_count": 61,
   "metadata": {},
   "outputs": [],
   "source": [
    "import sklearn\n",
    "import pandas as pd\n",
    "import numpy as np\n",
    "import matplotlib.pyplot as plt\n",
    "import seaborn as sns\n",
    "import csv\n",
    "from sklearn.feature_selection import SelectKBest, chi2\n",
    "from sklearn import preprocessing\n",
    "from sklearn.svm import SVC\n",
    "from sklearn.model_selection import cross_val_score,KFold,cross_val_predict\n",
    "from sklearn.metrics import confusion_matrix,classification_report,accuracy_score\n",
    "import sklearn\n",
    "from sklearn.metrics import f1_score\n",
    "from sklearn import metrics\n",
    "from sklearn.metrics import accuracy_score\n",
    "from sklearn.metrics import precision_score\n",
    "from sklearn.metrics import recall_score\n",
    "from sklearn.metrics import roc_curve, roc_auc_score\n",
    "from sklearn.neighbors import KNeighborsClassifier\n",
    "from sklearn.preprocessing import StandardScaler\n",
    "from sklearn.model_selection import train_test_split, GridSearchCV\n",
    "from sklearn.pipeline import make_pipeline\n",
    "from sklearn.svm import SVC\n",
    "from sklearn.feature_selection import RFECV\n",
    "from sklearn.metrics import roc_auc_score, roc_curve, auc"
   ]
  },
  {
   "cell_type": "code",
   "execution_count": 63,
   "metadata": {},
   "outputs": [
    {
     "name": "stdout",
     "output_type": "stream",
     "text": [
      "Accuracy= 0.817741935483871\n",
      "f1_score =  0.750551876379691\n",
      "precision = 0.9239130434782609\n",
      "classification report \n",
      "               precision    recall  f1-score   support\n",
      "\n",
      "           0       0.77      0.96      0.86       351\n",
      "           1       0.92      0.63      0.75       269\n",
      "\n",
      "    accuracy                           0.82       620\n",
      "   macro avg       0.85      0.80      0.80       620\n",
      "weighted avg       0.84      0.82      0.81       620\n",
      "\n",
      "Confusion Matrix:\n",
      " [[337  14]\n",
      " [ 99 170]] \n",
      "\n",
      "Sensitivity= 0.6319702602230484 \n",
      "\n",
      "Specificity= 0.9601139601139601 \n",
      "\n",
      "MCC = 0.6423341748912698\n"
     ]
    }
   ],
   "source": [
    "acc = accuracy_score(y_train , grid_pred)\n",
    "print('Accuracy=' , acc)\n",
    "\n",
    "f1 = f1_score(y_train , grid_pred)\n",
    "print('f1_score = ' , f1)\n",
    "\n",
    "\n",
    "precision = precision_score(y_train , grid_pred)\n",
    "print('precision =' ,  precision)\n",
    "\n",
    "#roc = roc_auc_score( y_train , grid_pred)\n",
    "#print('roc_auc score=', roc)\n",
    "\n",
    "print('classification report \\n',classification_report(y_train , grid_pred))\n",
    "\n",
    "\n",
    "cm=confusion_matrix(y_train,grid_pred)\n",
    "print(\"Confusion Matrix:\\n\",cm,\"\\n\")\n",
    "\n",
    "cm\n",
    "\n",
    "\n",
    "TN=cm[0,0]\n",
    "FP=cm[0,1]\n",
    "FN=cm[1,0]\n",
    "TP=cm[1,1]\n",
    "\n",
    "#Sensitivity\n",
    "\n",
    "sen=TP/float(TP+FN)\n",
    "print(\"Sensitivity=\",sen,\"\\n\")\n",
    "\n",
    "#Specificity\n",
    "\n",
    "spe=TN/float(TN+FP)\n",
    "print(\"Specificity=\",spe,\"\\n\")\n",
    "import math\n",
    "#MCC\n",
    "mcc= float((TP*TN)-(FP*FN))/float(math.sqrt((TP+FP)*(TP+FN)*(TN+FP)*(TN+FN)))\n",
    "print(\"MCC =\",mcc)"
   ]
  },
  {
   "cell_type": "code",
   "execution_count": null,
   "metadata": {},
   "outputs": [],
   "source": []
  },
  {
   "cell_type": "code",
   "execution_count": null,
   "metadata": {},
   "outputs": [],
   "source": []
  }
 ],
 "metadata": {
  "kernelspec": {
   "display_name": "Python 3 (ipykernel)",
   "language": "python",
   "name": "python3"
  },
  "language_info": {
   "codemirror_mode": {
    "name": "ipython",
    "version": 3
   },
   "file_extension": ".py",
   "mimetype": "text/x-python",
   "name": "python",
   "nbconvert_exporter": "python",
   "pygments_lexer": "ipython3",
   "version": "3.9.12"
  }
 },
 "nbformat": 4,
 "nbformat_minor": 4
}
